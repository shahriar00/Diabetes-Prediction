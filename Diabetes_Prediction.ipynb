{
  "nbformat": 4,
  "nbformat_minor": 0,
  "metadata": {
    "colab": {
      "provenance": [],
      "authorship_tag": "ABX9TyO96NBU1Fnmaj0XL4gvoedg"
    },
    "kernelspec": {
      "name": "python3",
      "display_name": "Python 3"
    },
    "language_info": {
      "name": "python"
    }
  },
  "cells": [
    {
      "cell_type": "code",
      "execution_count": 2,
      "metadata": {
        "id": "Ul4eU_rZN_xu"
      },
      "outputs": [],
      "source": [
        "import numpy as np\n",
        "import pandas as pd\n",
        "import matplotlib.pyplot as plt\n",
        "import seaborn as sns \n",
        "from sklearn.metrics import accuracy_score\n",
        "from sklearn.model_selection import train_test_split\n",
        "from sklearn.preprocessing import StandardScaler\n",
        "from sklearn import svm"
      ]
    },
    {
      "cell_type": "code",
      "source": [
        "df = pd.read_csv('diabetes.csv')\n",
        "df.head()"
      ],
      "metadata": {
        "id": "ch_e7lghPjg1"
      },
      "execution_count": null,
      "outputs": []
    },
    {
      "cell_type": "code",
      "source": [
        "df.isnull().sum()\n",
        "df.info()"
      ],
      "metadata": {
        "id": "pvbwK68BQCL7"
      },
      "execution_count": null,
      "outputs": []
    },
    {
      "cell_type": "code",
      "source": [
        "df.shape"
      ],
      "metadata": {
        "colab": {
          "base_uri": "https://localhost:8080/"
        },
        "id": "X0F9ZeZ2QZ3z",
        "outputId": "0831f6c1-2ae0-4785-b8a2-bfb1542af12b"
      },
      "execution_count": 7,
      "outputs": [
        {
          "output_type": "execute_result",
          "data": {
            "text/plain": [
              "(768, 9)"
            ]
          },
          "metadata": {},
          "execution_count": 7
        }
      ]
    },
    {
      "cell_type": "code",
      "source": [
        "# This is statical value of this dataframe\n",
        "df.describe()"
      ],
      "metadata": {
        "id": "PdH5b8uOQgwD"
      },
      "execution_count": null,
      "outputs": []
    },
    {
      "cell_type": "code",
      "source": [
        "df['Outcome'].value_counts()"
      ],
      "metadata": {
        "id": "bMrZMRX4Q7i8"
      },
      "execution_count": null,
      "outputs": []
    },
    {
      "cell_type": "code",
      "source": [
        "x = df.drop(columns = 'Outcome',axis = 1)\n",
        "x\n",
        "y = df['Outcome']\n",
        "y"
      ],
      "metadata": {
        "id": "g6-ff6dJRFuu"
      },
      "execution_count": null,
      "outputs": []
    },
    {
      "cell_type": "code",
      "source": [
        "x_train,x_test,y_train,y_test = train_test_split(x,y,test_size=0.3)\n",
        "model = svm.SVC(kernel='linear')\n",
        "model.fit(x_train,y_train)\n",
        "y_pred = model.predict(x_test)\n",
        "accuracy_score(y_test,y_pred)"
      ],
      "metadata": {
        "colab": {
          "base_uri": "https://localhost:8080/"
        },
        "id": "BG_KQyK1R1zK",
        "outputId": "81f3b866-2442-4ed3-82d2-e3f9850ffa37"
      },
      "execution_count": 16,
      "outputs": [
        {
          "output_type": "execute_result",
          "data": {
            "text/plain": [
              "0.7575757575757576"
            ]
          },
          "metadata": {},
          "execution_count": 16
        }
      ]
    },
    {
      "cell_type": "code",
      "source": [
        "input = (4,110,92,0,0,37.6,0.191,30)\n",
        "inputnp = np.asarray(input)\n",
        "\n",
        "# reshape data because prediction for one instance or value\n",
        "\n",
        "reshapedata = inputnp.reshape(1,-1)\n",
        "prediction = model.predict(reshapedata)\n",
        "\n",
        "if(prediction == 0):\n",
        "  print(\"The person is not a diabetic\")\n",
        "else:\n",
        "  print(\"The person is a diabetic\")"
      ],
      "metadata": {
        "id": "HivTNf_yVctA"
      },
      "execution_count": null,
      "outputs": []
    }
  ]
}